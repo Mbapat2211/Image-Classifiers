{
  "nbformat": 4,
  "nbformat_minor": 0,
  "metadata": {
    "colab": {
      "name": "Memes-v-Notes.ipynb",
      "provenance": [],
      "collapsed_sections": [],
      "toc_visible": true,
      "mount_file_id": "1BBzh5EU13FD7fqS0tUNpFvuRqQwbvgEX",
      "authorship_tag": "ABX9TyN91ZpWRsP0HKn16DhhB3ca",
      "include_colab_link": true
    },
    "kernelspec": {
      "name": "python3",
      "display_name": "Python 3"
    },
    "accelerator": "GPU"
  },
  "cells": [
    {
      "cell_type": "markdown",
      "metadata": {
        "id": "view-in-github",
        "colab_type": "text"
      },
      "source": [
        "<a href=\"https://colab.research.google.com/github/Mbapat2211/Memes-vs-Notes/blob/master/Memes-v-Notes.ipynb\" target=\"_parent\"><img src=\"https://colab.research.google.com/assets/colab-badge.svg\" alt=\"Open In Colab\"/></a>"
      ]
    },
    {
      "cell_type": "code",
      "metadata": {
        "id": "UVqmHhg1dboW",
        "colab_type": "code",
        "colab": {}
      },
      "source": [
        "import os\n",
        "import zipfile\n",
        "\n",
        "local_zip = '/content/drive/My Drive/Stage_2_mod.zip'\n",
        "zip_ref = zipfile.ZipFile(local_zip, 'r')\n",
        "zip_ref.extractall()\n",
        "zip_ref.close()"
      ],
      "execution_count": 1,
      "outputs": []
    },
    {
      "cell_type": "code",
      "metadata": {
        "id": "Gfcf_LSmdd42",
        "colab_type": "code",
        "colab": {}
      },
      "source": [
        "import numpy as np\n",
        "import matplotlib.pyplot as plt\n",
        "import h5py\n",
        "import scipy\n",
        "from PIL import Image\n",
        "from scipy import ndimage\n",
        "import math\n",
        "import cv2\n",
        "from google.colab.patches import cv2_imshow\n",
        "from sklearn.utils import shuffle\n",
        "\n",
        "\n",
        "%matplotlib inline"
      ],
      "execution_count": 2,
      "outputs": []
    },
    {
      "cell_type": "code",
      "metadata": {
        "id": "FiMhGA6BdiZ8",
        "colab_type": "code",
        "colab": {}
      },
      "source": [
        "memes_dir = os.path.join('Stage_2/Memes')\n",
        "notes_dir = os.path.join('Stage_2/Notes')\n",
        "\n",
        "\n",
        "train_memes_dir = os.path.join(memes_dir, 'train_memes')\n",
        "train_notes_dir = os.path.join(notes_dir, 'train_notes')\n",
        "test_memes_dir = os.path.join(memes_dir, 'test_memes')\n",
        "test_notes_dir = os.path.join(notes_dir, 'test_notes')"
      ],
      "execution_count": 3,
      "outputs": []
    },
    {
      "cell_type": "code",
      "metadata": {
        "id": "krF-JmccdjKN",
        "colab_type": "code",
        "colab": {}
      },
      "source": [
        "train_x_list = []\n",
        "label= []\n",
        "label_names = [\"Memes\" , \"Notes\"]\n",
        "\n",
        "for file in os.listdir(train_memes_dir):\n",
        "  image = cv2.imread(train_memes_dir + '/' + file)\n",
        "  image = cv2.resize(image, (50,50))\n",
        "  train_x_list.append(image)\n",
        "  label.append(0)\n",
        "\n",
        "for file in os.listdir(train_notes_dir):\n",
        "  image = cv2.imread(train_notes_dir + '/' + file)\n",
        "  image = cv2.resize(image, (50,50))\n",
        "  train_x_list.append(image)\n",
        "  label.append(1)\n",
        "\n",
        "train_x_list = np.array(train_x_list)\n",
        "label = np.array(label)\n",
        "mix = list(zip(train_x_list, label))\n",
        "mix = shuffle(mix)\n",
        "train_x_list, label = list(zip(*mix))\n",
        "train_x_list = np.array(train_x_list)\n",
        "label = np.array(label)\n",
        "label = label.reshape(1, label.shape[0])"
      ],
      "execution_count": 4,
      "outputs": []
    },
    {
      "cell_type": "code",
      "metadata": {
        "id": "bu1vtd-G8AYK",
        "colab_type": "code",
        "colab": {}
      },
      "source": [
        "test_x_list = []\n",
        "label_test= []\n",
        "\n",
        "for file in os.listdir(test_memes_dir):\n",
        "  image = cv2.imread(test_memes_dir + '/' + file)\n",
        "  image = cv2.resize(image, (50,50))\n",
        "  test_x_list.append(image)\n",
        "  label_test.append(0)\n",
        "\n",
        "for file in os.listdir(test_notes_dir):\n",
        "  image = cv2.imread(test_notes_dir + '/' + file)\n",
        "  image = cv2.resize(image, (50,50))\n",
        "  test_x_list.append(image)\n",
        "  label_test.append(1)\n",
        "\n",
        "test_x_list = np.array(test_x_list)\n",
        "label_test = np.array(label_test)\n",
        "mix_test = list(zip(test_x_list, label_test))\n",
        "mix_test = shuffle(mix_test)\n",
        "test_x_list, label_test = list(zip(*mix_test))\n",
        "test_x_list = np.array(test_x_list)\n",
        "label_test = np.array(label_test)\n",
        "label_test = label_test.reshape(1, label_test.shape[0])"
      ],
      "execution_count": 5,
      "outputs": []
    },
    {
      "cell_type": "code",
      "metadata": {
        "id": "bl1Ud8kGk4r1",
        "colab_type": "code",
        "colab": {
          "base_uri": "https://localhost:8080/",
          "height": 284
        },
        "outputId": "172cdc3f-7667-4547-a1b8-a15a1e253af3"
      },
      "source": [
        "index = 655\n",
        "plt.imshow(train_x_list[index])\n",
        "print (\"y = \" + str(label[:, index]) + \", it's a \" + label_names[label[0, index]] + \" picture.\")"
      ],
      "execution_count": 6,
      "outputs": [
        {
          "output_type": "stream",
          "text": [
            "y = [1], it's a Notes picture.\n"
          ],
          "name": "stdout"
        },
        {
          "output_type": "display_data",
          "data": {
            "image/png": "[encoded data removed]",
            "text/plain": [
              "<Figure size 432x288 with 1 Axes>"
            ]
          },
          "metadata": {
            "tags": [],
            "needs_background": "light"
          }
        }
      ]
    },
    {
      "cell_type": "code",
      "metadata": {
        "id": "j07L0wZL1G9c",
        "colab_type": "code",
        "colab": {}
      },
      "source": [
        "train_x = train_x_list.reshape(train_x_list.shape[0], -1).T\n",
        "train_x = train_x/255\n",
        "\n",
        "test_x = test_x_list.reshape(test_x_list.shape[0], -1).T\n",
        "test_x = test_x/255\n"
      ],
      "execution_count": 7,
      "outputs": []
    },
    {
      "cell_type": "code",
      "metadata": {
        "id": "NL0UIVWddlKk",
        "colab_type": "code",
        "colab": {
          "base_uri": "https://localhost:8080/",
          "height": 84
        },
        "outputId": "b5c54581-eb40-484b-800c-1367f61a7007"
      },
      "source": [
        "print('total training memes images:', len(os.listdir(train_memes_dir)))\n",
        "print('total training notes images:', len(os.listdir(train_notes_dir)))\n",
        "print('total test memes images:', len(os.listdir(test_memes_dir)))\n",
        "print('total test notes images:', len(os.listdir(test_notes_dir)))"
      ],
      "execution_count": 8,
      "outputs": [
        {
          "output_type": "stream",
          "text": [
            "total training memes images: 760\n",
            "total training notes images: 760\n",
            "total test memes images: 40\n",
            "total test notes images: 40\n"
          ],
          "name": "stdout"
        }
      ]
    },
    {
      "cell_type": "code",
      "metadata": {
        "id": "eh3D_2NXes7H",
        "colab_type": "code",
        "colab": {}
      },
      "source": [
        "def sigmoid(x):\n",
        "  s=1/(1+np.exp(-x))\n",
        "  return s"
      ],
      "execution_count": 9,
      "outputs": []
    },
    {
      "cell_type": "code",
      "metadata": {
        "id": "KzMM-byx18ya",
        "colab_type": "code",
        "colab": {}
      },
      "source": [
        "def relu(x):\n",
        "  r = np.maximum(0,x)\n",
        "  return r"
      ],
      "execution_count": 10,
      "outputs": []
    },
    {
      "cell_type": "code",
      "metadata": {
        "id": "UCQ4_SaqNt4g",
        "colab_type": "code",
        "colab": {}
      },
      "source": [
        "def back_relu(x):\n",
        "  if x.any() != 0:\n",
        "    b = x\n",
        "  else:\n",
        "    b = 0\n",
        "  return b"
      ],
      "execution_count": 11,
      "outputs": []
    },
    {
      "cell_type": "code",
      "metadata": {
        "id": "sCzqCsTNtgzx",
        "colab_type": "code",
        "colab": {}
      },
      "source": [
        "def initialise(dim):\n",
        "    \n",
        "  np.random.seed(3)\n",
        "\n",
        "  W1 = np.random.randn(dim[1],dim[0]) * 0.0001\n",
        "  b1 = np.zeros((dim[1],1))\n",
        "  W2 = np.random.randn(dim[2],dim[1]) * 0.0001\n",
        "  b2 = np.zeros((dim[2],1))\n",
        "  W3 = np.random.randn(dim[3],dim[2]) * 0.0001\n",
        "  b3 = np.zeros((dim[3],1))\n",
        "  W4 = np.random.randn(dim[4],dim[3]) * 0.0001\n",
        "  b4 = np.zeros((dim[4],1)) \n",
        "  W5 = np.random.randn(dim[5],dim[4]) * 0.0001\n",
        "  b5 = np.zeros((dim[5],1))\n",
        "\n",
        "  parameters = {\"W1\": W1, \"b1\": b1,\n",
        "               \"W2\": W2, \"b2\": b2,\n",
        "               \"W3\": W3, \"b3\": b3,\n",
        "               \"W4\": W4, \"b4\": b4,\n",
        "               \"W5\": W5, \"b5\": b5}\n",
        "\n",
        "  return parameters"
      ],
      "execution_count": 12,
      "outputs": []
    },
    {
      "cell_type": "code",
      "metadata": {
        "id": "-UvQBhd4GDmK",
        "colab_type": "code",
        "colab": {}
      },
      "source": [
        "def forward_prop(X, Y, train_set, parameters):\n",
        "  \n",
        "  m = X.shape[1]\n",
        "  cost = 0\n",
        "\n",
        "  W1 = parameters[\"W\" + str(1)]\n",
        "  b1 = parameters[\"b\" + str(1)]\n",
        "  W2 = parameters[\"W\" + str(2)]\n",
        "  b2 = parameters[\"b\" + str(2)]\n",
        "  W3 = parameters[\"W\" + str(3)]\n",
        "  b3 = parameters[\"b\" + str(3)]\n",
        "  W4 = parameters[\"W\" + str(4)]\n",
        "  b4 = parameters[\"b\" + str(4)]  \n",
        "  W5 = parameters[\"W\" + str(5)]\n",
        "  b5 = parameters[\"b\" + str(5)]\n",
        "\n",
        "  Z1 = np.dot(W1, X) + b1\n",
        "  A1 = relu(Z1)\n",
        "  Z2 = np.dot(W2, A1) + b2\n",
        "  A2 = relu(Z2)\n",
        "  Z3 = np.dot(W3, A2) + b3\n",
        "  A3 = relu(Z3)\n",
        "  Z4 = np.dot(W4, A3) + b4\n",
        "  A4 = relu(Z4)\n",
        "  Z5 = np.dot(W5, A4) + b5\n",
        "  A5 = sigmoid(Z5)\n",
        "\n",
        "  if(train_set == True):\n",
        "    cost = (-1/m) * np.sum(Y*np.log(A5) + (1-Y)*np.log(1-A5))\n",
        "    \n",
        "  cache = (Z1, A1, W1, b1, Z2, A2, W2, b2, Z3, A3, W3, b3, Z4, A4, W4, b4, Z5, A5, W5, b5)\n",
        "  return cost, cache"
      ],
      "execution_count": 13,
      "outputs": []
    },
    {
      "cell_type": "code",
      "metadata": {
        "id": "C2lyuYU8qdFI",
        "colab_type": "code",
        "colab": {}
      },
      "source": [
        "def backward_prop(X, Y, cache):\n",
        "  m = X.shape[1]\n",
        "  \n",
        "  (Z1, A1, W1, b1, Z2, A2, W2, b2, Z3, A3, W3, b3, Z4, A4, W4, b4, Z5, A5, W5, b5) = cache\n",
        "\n",
        "  dZ5 = A5 - Y\n",
        "  dW5 = 1./m * np.dot(dZ5, A4.T)\n",
        "  db5 = 1./m * np.sum(dZ5, axis=1, keepdims = True)\n",
        "\n",
        "  dA4 = np.dot(W5.T, dZ5)\n",
        "  dZ4 = np.multiply(dA4, back_relu(Z4))\n",
        "  dW4 = 1./m * np.dot(dZ4, A3.T)\n",
        "  db4 = 1./m * np.sum(dZ4, axis=1, keepdims = True)\n",
        "\n",
        "  dA3 = np.dot(W4.T, dZ4)\n",
        "  dZ3 = np.multiply(dA3, back_relu(Z3))\n",
        "  dW3 = 1./m * np.dot(dZ3, A2.T)\n",
        "  db3 = 1./m * np.sum(dZ3, axis=1, keepdims = True)\n",
        "    \n",
        "  dA2 = np.dot(W3.T, dZ3)\n",
        "  dZ2 = np.multiply(dA2, back_relu(Z2))\n",
        "  dW2 = 1./m * np.dot(dZ2, A1.T)\n",
        "  db2 = 1./m * np.sum(dZ2, axis=1, keepdims = True)\n",
        "   \n",
        "  dA1 = np.dot(W2.T, dZ2)\n",
        "  dZ1 = np.multiply(dA1, back_relu(Z1))\n",
        "  dW1 = 1./m * np.dot(dZ1, X.T)\n",
        "  db1 = 1./m * np.sum(dZ1, axis=1, keepdims = True)\n",
        "    \n",
        "  gradients = {\"dZ5\": dZ5, \"dW5\": dW5, \"db5\": db5,\n",
        "              \"dZ4\": dZ4, \"dW4\": dW4, \"db4\": db4,\n",
        "              \"dZ3\": dZ3, \"dW3\": dW3, \"db3\": db3,\n",
        "              \"dA2\": dA2, \"dZ2\": dZ2, \"dW2\": dW2, \"db2\": db2,\n",
        "              \"dA1\": dA1, \"dZ1\": dZ1, \"dW1\": dW1, \"db1\": db1}\n",
        "    \n",
        "  return gradients, A5"
      ],
      "execution_count": 14,
      "outputs": []
    },
    {
      "cell_type": "code",
      "metadata": {
        "id": "oIhFKYk5tMTG",
        "colab_type": "code",
        "colab": {}
      },
      "source": [
        "def update_values(dims, X, Y, parameters, train_set = False, num_iterations = 5, learning_rate = 0.05):\n",
        "\n",
        "  costs = []\n",
        "  for i in range(num_iterations):\n",
        "    cost, cache = forward_prop(X, Y, train_set, parameters)\n",
        "    gradients, AL = backward_prop(X, Y, cache)\n",
        "    for l in range(5):\n",
        "      parameters[\"W\" + str(l+1)] = parameters[\"W\" + str(l+1)] - gradients[\"dW\" + str(l+1)] * learning_rate\n",
        "      parameters[\"b\" + str(l+1)] = parameters[\"b\" + str(l+1)] - gradients[\"db\" + str(l+1)] * learning_rate \n",
        "    if train_set == True:\n",
        "      costs.append(cost)\n",
        "      print (\"Cost after iteration %i: %f\" %(i, cost))\n",
        "  \n",
        "  return AL, costs, learning_rate, num_iterations, parameters"
      ],
      "execution_count": 15,
      "outputs": []
    },
    {
      "cell_type": "code",
      "metadata": {
        "id": "NRiMxz5B2NWY",
        "colab_type": "code",
        "colab": {}
      },
      "source": [
        "def model(dims, X_train, X_test, Y_train, Y_test):\n",
        "  \n",
        "  parameters = initialise(dims)\n",
        "  AL, costs, learning_rate, num_iterations, parameters = update_values(dims, X_train, Y_train, parameters, train_set = True)\n",
        "  AL_test, costs_test, learning_rate, num_iterations, parameters = update_values(dims, X_test, Y_test, parameters)\n",
        "  \n",
        "  Y_prediction_train = np.zeros((1,AL.shape[1]))\n",
        "  Y_prediction_test = np.zeros((1,AL_test.shape[1]))\n",
        "  for i in range(AL.shape[1]):\n",
        "    Y_prediction_train[0,i] = (AL[0,i] >= 0.5)\n",
        "  for i in range(AL_test.shape[1]):\n",
        "    Y_prediction_test[0,i] = (AL_test[0,i] >= 0.5)\n",
        "\n",
        "  print(\"train accuracy: {} %\".format(100 - np.mean(np.abs(Y_prediction_train - Y_train)) * 100))\n",
        "  print(\"test accuracy: {} %\".format(100 - np.mean(np.abs(Y_prediction_test - Y_test)) * 100))\n",
        "  d = {\"costs\": costs, \n",
        "      \"Y_prediction_train\" : Y_prediction_train,\n",
        "      \"Y_prediction_test\" : Y_prediction_test, \n",
        "      \"learning_rate\" : learning_rate,\n",
        "      \"num_iterations\": num_iterations}\n",
        "\n",
        "  return d"
      ],
      "execution_count": 18,
      "outputs": []
    },
    {
      "cell_type": "code",
      "metadata": {
        "id": "LZLas-5a-pB4",
        "colab_type": "code",
        "colab": {
          "base_uri": "https://localhost:8080/",
          "height": 134
        },
        "outputId": "f6231522-f1f9-4527-ce4b-5c29942924cd"
      },
      "source": [
        "dims = [7500, 8000, 6500, 5000, 1500, 1]\n",
        "d= model(dims, train_x, test_x, label, label_test)"
      ],
      "execution_count": 19,
      "outputs": [
        {
          "output_type": "stream",
          "text": [
            "Cost after iteration 0: 0.693147\n",
            "Cost after iteration 1: 0.693147\n",
            "Cost after iteration 2: 0.693147\n",
            "Cost after iteration 3: 0.693147\n",
            "Cost after iteration 4: 0.693147\n",
            "train accuracy: 46.118421052631575 %\n",
            "test accuracy: 50.0 %\n"
          ],
          "name": "stdout"
        }
      ]
    },
    {
      "cell_type": "code",
      "metadata": {
        "id": "59FFHl6vHoPO",
        "colab_type": "code",
        "colab": {
          "base_uri": "https://localhost:8080/",
          "height": 284
        },
        "outputId": "a2d4e933-e14b-4486-fdba-0671a89227d3"
      },
      "source": [
        "index = 28\n",
        "\n",
        "plt.imshow(test_x[:,index].reshape((train_x_list.shape[1], train_x_list.shape[1], 3)))\n",
        "print (\"y = \" + str(label_test[0,index]) + \", you predicted that it is a \\\"\" + label_names[int(d[\"Y_prediction_test\"][0][index])] +  \"\\\" picture.\")"
      ],
      "execution_count": null,
      "outputs": [
        {
          "output_type": "stream",
          "text": [
            "y = 0, you predicted that it is a \"Memes\" picture.\n"
          ],
          "name": "stdout"
        },
        {
          "output_type": "display_data",
          "data": {
            "image/png": "[encoded data removed]",
            "text/plain": [
              "<Figure size 432x288 with 1 Axes>"
            ]
          },
          "metadata": {
            "tags": [],
            "needs_background": "light"
          }
        }
      ]
    },
    {
      "cell_type": "code",
      "metadata": {
        "colab_type": "code",
        "id": "qu6PaoU8vpD-",
        "colab": {
          "base_uri": "https://localhost:8080/",
          "height": 284
        },
        "outputId": "2b58a2f8-27bc-49c1-959b-4610bece8c29"
      },
      "source": [
        "index = 55\n",
        "plt.imshow(train_x[:,index].reshape((train_x_list.shape[1], train_x_list.shape[1], 3)))\n",
        "print (\"y = \" + str(label[0,index]) + \", you predicted that it is a \\\"\" + label_names[int(d[\"Y_prediction_train\"][0][index])] +  \"\\\" picture.\")"
      ],
      "execution_count": null,
      "outputs": [
        {
          "output_type": "stream",
          "text": [
            "y = 0, you predicted that it is a \"Memes\" picture.\n"
          ],
          "name": "stdout"
        },
        {
          "output_type": "display_data",
          "data": {
            "image/png": "[encoded data removed]",
            "text/plain": [
              "<Figure size 432x288 with 1 Axes>"
            ]
          },
          "metadata": {
            "tags": [],
            "needs_background": "light"
          }
        }
      ]
    },
    {
      "cell_type": "code",
      "metadata": {
        "id": "gsTOln2Wvz-g",
        "colab_type": "code",
        "colab": {}
      },
      "source": [
        ""
      ],
      "execution_count": null,
      "outputs": []
    }
  ]
}